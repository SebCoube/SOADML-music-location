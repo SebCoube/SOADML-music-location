{
 "cells": [
  {
   "cell_type": "code",
   "execution_count": 107,
   "metadata": {
    "collapsed": true
   },
   "outputs": [],
   "source": [
    "from __future__ import absolute_import, division\n",
    "from __future__ import print_function\n",
    "import autograd.numpy as np\n",
    "import autograd.numpy.random as npr\n",
    "from autograd.scipy.misc import logsumexp\n",
    "from autograd import grad\n",
    "from autograd.misc.flatten import flatten\n",
    "from autograd.misc.optimizers import adam\n",
    "from numpy import genfromtxt\n",
    "from math import pi\n",
    "from operator import add\n",
    "import matplotlib.pyplot as plt\n"
   ]
  },
  {
   "cell_type": "markdown",
   "metadata": {},
   "source": [
    "## Première partie : prédiction de latitude et longitude"
   ]
  },
  {
   "cell_type": "code",
   "execution_count": 82,
   "metadata": {
    "collapsed": true
   },
   "outputs": [],
   "source": [
    "#création des données\n",
    "my_data = genfromtxt('default_plus_chromatic_features_1059_tracks.txt', delimiter=',')\n",
    "train = my_data[1:799,]\n",
    "test = my_data[800:,]"
   ]
  },
  {
   "cell_type": "markdown",
   "metadata": {},
   "source": [
    "### Code"
   ]
  },
  {
   "cell_type": "code",
   "execution_count": 83,
   "metadata": {},
   "outputs": [
    {
     "name": "stdout",
     "output_type": "stream",
     "text": [
      "distance entre les deux pôles...\n",
      "...par la distance du grand cercle\n",
      "20037.0779446\n",
      "... par la formule circonférence = 2 pi R\n",
      "20037.0779445957\n",
      "\n",
      "distance entre deux points de l'équateur diamétralement opposés...\n",
      "...par la distance du grand cercle\n",
      "20037.0779446\n",
      "... par la formule circonférence = 2 pi R\n",
      "20037.0779445957\n",
      "\n",
      "distance Paris Bogota...\n",
      "...par la distance du grand cercle\n",
      "8636.14950817\n",
      "... trouvée sur Internet\n",
      "8633\n"
     ]
    }
   ],
   "source": [
    "#Distance du Grand Cercle\n",
    "def dgc(lat_1, lat_2, lon_1, lon_2) :\n",
    "    #conversion degré -> rad\n",
    "    lat_1, lat_2, lon_1, lon_2 = (pi/180)* lat_1, (pi/180)*lat_2, (pi/180)*lon_1, (pi/180)*lon_2\n",
    "    q = np.sin((lat_1-lat_2)/2)**2+np.cos(lat_1)*np.cos(lat_2)*np.sin((lon_1-lon_2)/2)**2\n",
    "    return(2*6378*np.arcsin(np.sign(q)*np.sqrt(np.abs(q))))\n",
    "\n",
    "print(\"distance entre les deux pôles...\")\n",
    "print(\"...par la distance du grand cercle\")\n",
    "print(dgc(90,-90, 0, 0))\n",
    "print(\"... par la formule circonférence = 2 pi R\")\n",
    "print(np.pi*6378)\n",
    "print(\"\")\n",
    "\n",
    "print(\"distance entre deux points de l'équateur diamétralement opposés...\")\n",
    "print(\"...par la distance du grand cercle\")\n",
    "print(dgc(0,0, 0, 180))\n",
    "print(\"... par la formule circonférence = 2 pi R\")\n",
    "print(np.pi*6378)\n",
    "print(\"\")\n",
    "\n",
    "print(\"distance Paris Bogota...\")\n",
    "print(\"...par la distance du grand cercle\")\n",
    "print(dgc(4.4,48.5, -74, 2.2))\n",
    "print(\"... trouvée sur Internet\")\n",
    "print(8633)\n",
    "\n",
    "\n"
   ]
  },
  {
   "cell_type": "code",
   "execution_count": 117,
   "metadata": {
    "collapsed": true
   },
   "outputs": [],
   "source": [
    "#Fonction de création des paramètres directement inspirée de l'exemple\n",
    "def init_random_params(scale, layer_sizes, rs=npr.RandomState(0)):\n",
    "    \"\"\"Build a list of (weights, biases) tuples, one for each layer.\"\"\"\n",
    "    return [(rs.randn(insize, outsize) * scale,   # weight matrix\n",
    "             rs.randn(outsize) * scale)           # bias vector\n",
    "            for insize, outsize in zip(layer_sizes[:-1], layer_sizes[1:])]\n",
    "\n",
    "#Fonction de prédiction directement inspirée de l'exemple\n",
    "def nn_predict(params, inputs, nonlinearity = np.tanh):\n",
    "    for W, b in params:\n",
    "        outputs = np.dot(inputs, W) + b\n",
    "        inputs = nonlinearity(outputs)\n",
    "    output = nonlinearity(outputs)*np.array([90, 180])\n",
    "    return outputs\n",
    "\n",
    "\n",
    "init_scale = 0.1\n",
    "weight_prior_variance = 10.0\n",
    "init_params = init_random_params(init_scale, layer_sizes=[116, 800, 800, 2])\n",
    "\n",
    "#fonction objectif faisant intervenir le grand cercle\n",
    "def objective(params, t) : \n",
    "    t = t%np.shape(train)[0]\n",
    "    predict = nn_predict(params, train[t,0:116] , nonlinearity=np.tanh)\n",
    "    return(dgc(predict[0], train[t,116], predict[1], train[t,117])**2)\n"
   ]
  },
  {
   "cell_type": "markdown",
   "metadata": {},
   "source": [
    "### Résultats"
   ]
  },
  {
   "cell_type": "code",
   "execution_count": null,
   "metadata": {
    "scrolled": false
   },
   "outputs": [
    {
     "name": "stderr",
     "output_type": "stream",
     "text": [
      "C:\\Users\\Utilisateur\\Anaconda3\\lib\\site-packages\\autograd\\numpy\\numpy_vjps.py:88: RuntimeWarning: overflow encountered in square\n",
      "  defvjp(anp.tanh,   lambda ans, x : lambda g: g / anp.cosh(x) **2)\n"
     ]
    }
   ],
   "source": [
    "#Optimisation \n",
    "optimized_params = adam(grad(objective), init_params, step_size=0.01, num_iters=10000)"
   ]
  },
  {
   "cell_type": "code",
   "execution_count": null,
   "metadata": {},
   "outputs": [],
   "source": [
    "#Prédiction et retour d'erreur\n",
    "def pred (optimized_params) :\n",
    "    preds = []\n",
    "    for i in range(np.shape(test)[0]) : \n",
    "        preds.append(nn_predict(optimized_params, inputs=test[i, 0:116]))\n",
    "    return(np.array(preds))\n",
    "#retourne un array de la différence de latitude et de longitude entre prédiction et référence\n",
    "def  errors (optimized_params) : \n",
    "    preds = pred(optimized_params)\n",
    "    true = []\n",
    "    for i in range(np.shape(test)[0]) : \n",
    "         true.append(test[i, 116:])\n",
    "    true = np.array(true)\n",
    "    return(preds-true)\n",
    "errors (optimized_params)\n",
    "plt.scatter(errors (optimized_params).transpose()[0,],errors (optimized_params).transpose()[1,])\n",
    "plt.show()"
   ]
  },
  {
   "cell_type": "markdown",
   "metadata": {
    "collapsed": true
   },
   "source": [
    "## Seconde partie : utilisation du heatmap"
   ]
  },
  {
   "cell_type": "code",
   "execution_count": 12,
   "metadata": {
    "collapsed": true
   },
   "outputs": [],
   "source": [
    "#création des données\n",
    "heatmap = np.loadtxt('heatmap.txt')\n",
    "my_data = genfromtxt('default_plus_chromatic_features_1059_tracks.txt', delimiter=',')\n",
    "my_data = my_data[0:len(my_data), 0:116]\n",
    "my_data = np.concatenate((my_data, heatmap), 1)\n",
    "train = my_data[np.random.random_integers(1, high=799, size=10000),]\n",
    "test = my_data[800:,]"
   ]
  },
  {
   "cell_type": "code",
   "execution_count": 49,
   "metadata": {},
   "outputs": [],
   "source": [
    "init_scale = 0.1\n",
    "weight_prior_variance = 10.0\n",
    "init_params = init_random_params(init_scale, layer_sizes=[116, 200, 200, 400])\n",
    "\n",
    "\n",
    "#Fonction de prédiction directement inspirée de l'exemple\n",
    "#différence par rapport à avant : on fait en sorte que les outputs soient bien compris entre 0 et 1\n",
    "def nn_predict(params, inputs, nonlinearity = np.tanh):\n",
    "    for W, b in params:\n",
    "        outputs = np.dot(inputs, W) + b\n",
    "        inputs = nonlinearity(outputs)\n",
    "    outputs =( np.tanh(outputs)+1)/2\n",
    "    return outputs\n",
    "\n",
    "# Divergence de Kullbacl-Leibler : on ajoute un epsilon aux histogrammes pour éviter les divisions par 0\n",
    "def kullback_leibler(params, t) : \n",
    "    predict = nn_predict(params, train[t,0:116] , nonlinearity=np.tanh)\n",
    "    predict = predict +0.000001\n",
    "    return(np.sum(predict*np.log(predict/(train[t,116:]+0.000001))))\n",
    "\n"
   ]
  },
  {
   "cell_type": "code",
   "execution_count": 50,
   "metadata": {},
   "outputs": [
    {
     "data": {
      "text/plain": [
       "5031.6572941207578"
      ]
     },
     "execution_count": 50,
     "metadata": {},
     "output_type": "execute_result"
    }
   ],
   "source": [
    "kullback_leibler(init_params, 1)"
   ]
  }
 ],
 "metadata": {
  "kernelspec": {
   "display_name": "Python 3",
   "language": "python",
   "name": "python3"
  },
  "language_info": {
   "codemirror_mode": {
    "name": "ipython",
    "version": 3
   },
   "file_extension": ".py",
   "mimetype": "text/x-python",
   "name": "python",
   "nbconvert_exporter": "python",
   "pygments_lexer": "ipython3",
   "version": "3.6.3"
  }
 },
 "nbformat": 4,
 "nbformat_minor": 2
}
