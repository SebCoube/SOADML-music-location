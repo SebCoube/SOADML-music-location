{
 "cells": [
  {
   "cell_type": "code",
   "execution_count": 1,
   "metadata": {
    "collapsed": true
   },
   "outputs": [],
   "source": [
    "from __future__ import absolute_import, division\n",
    "from __future__ import print_function\n",
    "import autograd.numpy as np\n",
    "import autograd.numpy.random as npr\n",
    "from autograd.scipy.misc import logsumexp\n",
    "from autograd import grad\n",
    "from autograd.misc.flatten import flatten\n",
    "from autograd.misc.optimizers import adam\n",
    "from numpy import genfromtxt\n",
    "from math import pi\n",
    "from operator import add\n",
    "import matplotlib.pyplot as plt\n"
   ]
  },
  {
   "cell_type": "markdown",
   "metadata": {},
   "source": [
    "## Première partie : prédiction de latitude et longitude"
   ]
  },
  {
   "cell_type": "code",
   "execution_count": 2,
   "metadata": {
    "collapsed": true
   },
   "outputs": [],
   "source": [
    "#création des données\n",
    "my_data = genfromtxt('default_plus_chromatic_features_1059_tracks.txt', delimiter=',')\n",
    "train = my_data[1:800,]\n",
    "test = my_data[801:,]"
   ]
  },
  {
   "cell_type": "markdown",
   "metadata": {},
   "source": [
    "### Code"
   ]
  },
  {
   "cell_type": "code",
   "execution_count": 5,
   "metadata": {},
   "outputs": [
    {
     "name": "stdout",
     "output_type": "stream",
     "text": [
      "distance entre les deux pôles...\n",
      "...par la distance du grand cercle\n",
      "20037.0779446\n",
      "... par la formule circonférence = 2 pi R\n",
      "20037.0779445957\n",
      "\n",
      "distance entre deux points de l'équateur diamétralement opposés...\n",
      "...par la distance du grand cercle\n",
      "20037.0779446\n",
      "... par la formule circonférence = 2 pi R\n",
      "20037.0779445957\n",
      "\n",
      "distance Paris Bogota...\n",
      "...par la distance du grand cercle\n",
      "8636.14950817\n",
      "... trouvée sur Internet\n",
      "8633\n"
     ]
    }
   ],
   "source": [
    "#Distance du Grand Cercle\n",
    "def dgc(lat_1, lat_2, lon_1, lon_2) :\n",
    "    #conversion degré -> rad\n",
    "    lat_1, lat_2, lon_1, lon_2 = (pi/180)* lat_1, (pi/180)*lat_2, (pi/180)*lon_1, (pi/180)*lon_2\n",
    "    q = np.sin((lat_1-lat_2)/2)**2+np.cos(lat_1)*np.cos(lat_2)*np.sin((lon_1-lon_2)/2)**2\n",
    "    return(2*6378*np.arcsin(np.sign(q)*np.sqrt(np.abs(q))))\n",
    "\n",
    "print(\"distance entre les deux pôles...\")\n",
    "print(\"...par la distance du grand cercle\")\n",
    "print(dgc(90,-90, 0, 0))\n",
    "print(\"... par la formule circonférence = 2 pi R\")\n",
    "print(np.pi*6378)\n",
    "print(\"\")\n",
    "\n",
    "print(\"distance entre deux points de l'équateur diamétralement opposés...\")\n",
    "print(\"...par la distance du grand cercle\")\n",
    "print(dgc(0,0, 0, 180))\n",
    "print(\"... par la formule circonférence = 2 pi R\")\n",
    "print(np.pi*6378)\n",
    "print(\"\")\n",
    "\n",
    "print(\"distance Paris Bogota...\")\n",
    "print(\"...par la distance du grand cercle\")\n",
    "print(dgc(4.4,48.5, -74, 2.2))\n",
    "print(\"... trouvée sur Internet\")\n",
    "print(8633)\n",
    "\n",
    "\n"
   ]
  },
  {
   "cell_type": "code",
   "execution_count": 6,
   "metadata": {
    "collapsed": true
   },
   "outputs": [],
   "source": [
    "#Fonction de création des paramètres directement inspirée de l'exemple\n",
    "def init_random_params(scale, layer_sizes, rs=npr.RandomState(0)):\n",
    "    \"\"\"Build a list of (weights, biases) tuples, one for each layer.\"\"\"\n",
    "    return [(rs.randn(insize, outsize) * scale,   # weight matrix\n",
    "             rs.randn(outsize) * scale)           # bias vector\n",
    "            for insize, outsize in zip(layer_sizes[:-1], layer_sizes[1:])]\n",
    "\n",
    "#Fonction de prédiction directement inspirée de l'exemple\n",
    "def nn_predict(params, inputs, nonlinearity = np.tanh):\n",
    "    for W, b in params:\n",
    "        outputs = np.dot(inputs, W) + b\n",
    "        inputs = nonlinearity(outputs)\n",
    "    return outputs\n",
    "\n",
    "\n",
    "init_scale = 0.1\n",
    "weight_prior_variance = 10.0\n",
    "init_params = init_random_params(init_scale, layer_sizes=[116, 800, 2])\n",
    "\n",
    "#fonction objectif faisant intervenir le grand cercle\n",
    "def objective(params, t) : \n",
    "    t = t%799\n",
    "    predict = nn_predict(params, train[t,0:116] , nonlinearity=np.tanh)\n",
    "    return(dgc(predict[0], train[t,116], predict[1], train[t,117])**2)\n"
   ]
  },
  {
   "cell_type": "markdown",
   "metadata": {},
   "source": [
    "### Résultats"
   ]
  },
  {
   "cell_type": "code",
   "execution_count": 98,
   "metadata": {
    "scrolled": false
   },
   "outputs": [
    {
     "name": "stderr",
     "output_type": "stream",
     "text": [
      "C:\\Users\\Utilisateur\\Anaconda3\\lib\\site-packages\\autograd\\numpy\\numpy_vjps.py:88: RuntimeWarning: overflow encountered in square\n",
      "  defvjp(anp.tanh,   lambda ans, x : lambda g: g / anp.cosh(x) **2)\n",
      "C:\\Users\\Utilisateur\\Anaconda3\\lib\\site-packages\\autograd\\tracer.py:48: RuntimeWarning: overflow encountered in cosh\n",
      "  return f_raw(*args, **kwargs)\n"
     ]
    }
   ],
   "source": [
    "#Optimisation \n",
    "optimized_params = adam(grad(objective), init_params, step_size=0.01, num_iters=100000)"
   ]
  },
  {
   "cell_type": "code",
   "execution_count": 14,
   "metadata": {
    "collapsed": true
   },
   "outputs": [],
   "source": [
    "#Prédiction et retour d'erreur\n",
    "def pred (optimized_params) :\n",
    "    preds = []\n",
    "    for i in range(np.shape(test)[0]) : \n",
    "        preds.append(nn_predict(optimized_params, inputs=test[i, 0:116]))\n",
    "    return(np.array(preds))\n",
    "#retourne un array de la différence de latitude et de longitude entre prédiction et référence\n",
    "def  errors (optimized_params) : \n",
    "    preds = pred(optimized_params)\n",
    "    true = []\n",
    "    for i in range(np.shape(test)[0]) : \n",
    "         true.append(test[i, 116:])\n",
    "    true = np.array(true)\n",
    "    return(preds-true)\n"
   ]
  },
  {
   "cell_type": "code",
   "execution_count": 105,
   "metadata": {},
   "outputs": [
    {
     "data": {
      "image/png": "[encoded data removed]",
      "text/plain": [
       "<matplotlib.figure.Figure at 0x1ce8b537550>"
      ]
     },
     "metadata": {},
     "output_type": "display_data"
    }
   ],
   "source": [
    "#erreur latitude/longitude\n",
    "plt.scatter(errors (optimized_params).transpose()[0,],errors (optimized_params).transpose()[1,])\n",
    "plt.show()"
   ]
  },
  {
   "cell_type": "code",
   "execution_count": 106,
   "metadata": {},
   "outputs": [
    {
     "data": {
      "image/png": "[encoded data removed]",
      "text/plain": [
       "<matplotlib.figure.Figure at 0x1ce8d0c5f98>"
      ]
     },
     "metadata": {},
     "output_type": "display_data"
    }
   ],
   "source": [
    "#latitude réelle/ erreur de latitude prédite\n",
    "plt.scatter(test[:,116] ,errors (optimized_params).transpose()[0,])\n",
    "plt.show()"
   ]
  },
  {
   "cell_type": "code",
   "execution_count": 107,
   "metadata": {},
   "outputs": [
    {
     "data": {
      "image/png": "[encoded data removed]",
      "text/plain": [
       "<matplotlib.figure.Figure at 0x1ce8d0c5358>"
      ]
     },
     "metadata": {},
     "output_type": "display_data"
    }
   ],
   "source": [
    "#longitude réelle/erreur de latitude prédite\n",
    "plt.scatter(test[:,117] ,errors (optimized_params).transpose()[0,])\n",
    "plt.show()"
   ]
  },
  {
   "cell_type": "code",
   "execution_count": 111,
   "metadata": {},
   "outputs": [
    {
     "ename": "ValueError",
     "evalue": "operands could not be broadcast together with shapes (259,2) (259,400) ",
     "output_type": "error",
     "traceback": [
      "\u001b[1;31m---------------------------------------------------------------------------\u001b[0m",
      "\u001b[1;31mValueError\u001b[0m                                Traceback (most recent call last)",
      "\u001b[1;32m<ipython-input-111-b79b772c1c7b>\u001b[0m in \u001b[0;36m<module>\u001b[1;34m()\u001b[0m\n\u001b[0;32m      1\u001b[0m \u001b[1;31m#longitude réelle/erreur de longitude prédite\u001b[0m\u001b[1;33m\u001b[0m\u001b[1;33m\u001b[0m\u001b[0m\n\u001b[1;32m----> 2\u001b[1;33m \u001b[0mplt\u001b[0m\u001b[1;33m.\u001b[0m\u001b[0mscatter\u001b[0m\u001b[1;33m(\u001b[0m\u001b[0mtest\u001b[0m\u001b[1;33m[\u001b[0m\u001b[1;33m:\u001b[0m\u001b[1;33m,\u001b[0m\u001b[1;36m117\u001b[0m\u001b[1;33m]\u001b[0m \u001b[1;33m,\u001b[0m\u001b[0merrors\u001b[0m \u001b[1;33m(\u001b[0m\u001b[0moptimized_params\u001b[0m\u001b[1;33m)\u001b[0m\u001b[1;33m.\u001b[0m\u001b[0mtranspose\u001b[0m\u001b[1;33m(\u001b[0m\u001b[1;33m)\u001b[0m\u001b[1;33m[\u001b[0m\u001b[1;36m1\u001b[0m\u001b[1;33m,\u001b[0m\u001b[1;33m]\u001b[0m\u001b[1;33m)\u001b[0m\u001b[1;33m\u001b[0m\u001b[0m\n\u001b[0m\u001b[0;32m      3\u001b[0m \u001b[0mplt\u001b[0m\u001b[1;33m.\u001b[0m\u001b[0mshow\u001b[0m\u001b[1;33m(\u001b[0m\u001b[1;33m)\u001b[0m\u001b[1;33m\u001b[0m\u001b[0m\n",
      "\u001b[1;32m<ipython-input-104-4e2ccd84c373>\u001b[0m in \u001b[0;36merrors\u001b[1;34m(optimized_params)\u001b[0m\n\u001b[0;32m     12\u001b[0m          \u001b[0mtrue\u001b[0m\u001b[1;33m.\u001b[0m\u001b[0mappend\u001b[0m\u001b[1;33m(\u001b[0m\u001b[0mtest\u001b[0m\u001b[1;33m[\u001b[0m\u001b[0mi\u001b[0m\u001b[1;33m,\u001b[0m \u001b[1;36m116\u001b[0m\u001b[1;33m:\u001b[0m\u001b[1;33m]\u001b[0m\u001b[1;33m)\u001b[0m\u001b[1;33m\u001b[0m\u001b[0m\n\u001b[0;32m     13\u001b[0m     \u001b[0mtrue\u001b[0m \u001b[1;33m=\u001b[0m \u001b[0mnp\u001b[0m\u001b[1;33m.\u001b[0m\u001b[0marray\u001b[0m\u001b[1;33m(\u001b[0m\u001b[0mtrue\u001b[0m\u001b[1;33m)\u001b[0m\u001b[1;33m\u001b[0m\u001b[0m\n\u001b[1;32m---> 14\u001b[1;33m     \u001b[1;32mreturn\u001b[0m\u001b[1;33m(\u001b[0m\u001b[0mpreds\u001b[0m\u001b[1;33m-\u001b[0m\u001b[0mtrue\u001b[0m\u001b[1;33m)\u001b[0m\u001b[1;33m\u001b[0m\u001b[0m\n\u001b[0m",
      "\u001b[1;31mValueError\u001b[0m: operands could not be broadcast together with shapes (259,2) (259,400) "
     ]
    }
   ],
   "source": [
    "#longitude réelle/erreur de longitude prédite\n",
    "plt.scatter(test[:,117] ,errors (optimized_params).transpose()[1,])\n",
    "plt.show()"
   ]
  },
  {
   "cell_type": "markdown",
   "metadata": {
    "collapsed": true
   },
   "source": [
    "## Seconde partie : utilisation du heatmap avec Kullback-Leibler"
   ]
  },
  {
   "cell_type": "code",
   "execution_count": 7,
   "metadata": {},
   "outputs": [],
   "source": [
    "#création des données\n",
    "heatmap = np.loadtxt('heatmap.txt')\n",
    "my_data = genfromtxt('default_plus_chromatic_features_1059_tracks.txt', delimiter=',')\n",
    "my_data = my_data[0:len(my_data), 0:116]\n",
    "my_data = np.concatenate((my_data, heatmap), 1)\n",
    "train = my_data[0:799,]\n",
    "test = my_data[800:,]\n"
   ]
  },
  {
   "cell_type": "markdown",
   "metadata": {},
   "source": [
    "### Changements de fonctions"
   ]
  },
  {
   "cell_type": "code",
   "execution_count": 37,
   "metadata": {},
   "outputs": [],
   "source": [
    "init_scale = 0.1\n",
    "weight_prior_variance = 10.0\n",
    "init_params = init_random_params(init_scale, layer_sizes=[116, 500, 400])\n",
    "\n",
    "\n",
    "#Fonction de prédiction directement inspirée de l'exemple\n",
    "#différence par rapport à avant : on fait en sorte que les outputs soient bien compris entre 0 et 1 et somment à 1\n",
    "def nn_predict(params, inputs, nonlinearity = np.tanh):\n",
    "    for W, b in params:\n",
    "        outputs = np.dot(inputs, W) + b\n",
    "        inputs = nonlinearity(outputs)\n",
    "    outputs =( np.tanh(outputs)+1)/2\n",
    "    outputs = outputs/np.sum(outputs)\n",
    "    return outputs\n",
    "\n",
    "# Divergence de Kullback-Leibler : on ajoute un epsilon aux histogrammes pour éviter les divisions par 0\n",
    "def kullback_leibler(predict, true) : \n",
    "    predict = predict +0.00000001\n",
    "    predict = predict/sum(predict)\n",
    "    true = true+0.00000001\n",
    "    true = true/sum(true)\n",
    "    return(-np.sum(predict*np.log(true/predict)))\n",
    "\n",
    "#fonction objectif : calcule KL entre la prédiction et la vraie valeur à l'itération t\n",
    "def kullback_leibler_objective(params, t) : \n",
    "    t = t%799\n",
    "    predict = nn_predict(params, train[t,0:116] , nonlinearity=np.tanh)\n",
    "    true = train[t,116:]\n",
    "    return(kullback_leibler(predict, true))\n",
    "\n"
   ]
  },
  {
   "cell_type": "markdown",
   "metadata": {},
   "source": [
    "### Résultats"
   ]
  },
  {
   "cell_type": "code",
   "execution_count": 41,
   "metadata": {},
   "outputs": [
    {
     "name": "stderr",
     "output_type": "stream",
     "text": [
      "C:\\Users\\Utilisateur\\Anaconda3\\lib\\site-packages\\autograd\\numpy\\numpy_vjps.py:88: RuntimeWarning: overflow encountered in square\n",
      "  defvjp(anp.tanh,   lambda ans, x : lambda g: g / anp.cosh(x) **2)\n"
     ]
    }
   ],
   "source": [
    "#Optimisation\n",
    "\n",
    "optimized_params = adam(grad(kullback_leibler_objective), init_params, step_size=0.01, num_iters=20000)"
   ]
  },
  {
   "cell_type": "code",
   "execution_count": 42,
   "metadata": {},
   "outputs": [
    {
     "name": "stdout",
     "output_type": "stream",
     "text": [
      "-1.65301144929\n"
     ]
    }
   ],
   "source": [
    "def kullback_leibler_loss (params) : \n",
    "    preds = pred(params)\n",
    "    true = []\n",
    "    for i in range(np.shape(test)[0]) : \n",
    "         true.append(test[i, 116:])\n",
    "    KL = []\n",
    "    for i in range(np.shape(test)[0]):\n",
    "        KL.append(kullback_leibler(preds[i] , true[i]))\n",
    "    return(KL)\n",
    "\n",
    "print(np.mean(np.array(kullback_leibler_loss(optimized_params))-np.array(kullback_leibler_loss(init_params))))"
   ]
  },
  {
   "cell_type": "code",
   "execution_count": 49,
   "metadata": {},
   "outputs": [
    {
     "data": {
      "image/png": "[encoded data removed]",
      "text/plain": [
       "<matplotlib.figure.Figure at 0x2438db16588>"
      ]
     },
     "metadata": {},
     "output_type": "display_data"
    }
   ],
   "source": [
    "plt.plot(np.sort(np.array(kullback_leibler_loss(optimized_params))-np.array(kullback_leibler_loss(init_params))))\n",
    "plt.show()"
   ]
  },
  {
   "cell_type": "code",
   "execution_count": null,
   "metadata": {
    "collapsed": true
   },
   "outputs": [],
   "source": []
  },
  {
   "cell_type": "markdown",
   "metadata": {},
   "source": [
    "## Troisième partie : utilisation du Heatmap avec earth mover distance"
   ]
  },
  {
   "cell_type": "markdown",
   "metadata": {},
   "source": [
    "### \"Codage\" du earth mover distance"
   ]
  },
  {
   "cell_type": "code",
   "execution_count": 72,
   "metadata": {
    "collapsed": true
   },
   "outputs": [],
   "source": [
    "#Copier-collé de l'approximation sinkhorn donnée dans le projet\n",
    "\n",
    "\n",
    "# -*- coding: utf-8 -*-\n",
    "\"\"\"\n",
    "Dimension reduction with optimal transport\n",
    "\"\"\"\n",
    "\n",
    "# Author: Remi Flamary <remi.flamary@unice.fr>\n",
    "#\n",
    "# License: MIT License\n",
    "\n",
    "from scipy import linalg\n",
    "import autograd.numpy as np\n",
    "from pymanopt.manifolds import Stiefel\n",
    "from pymanopt import Problem\n",
    "from pymanopt.solvers import SteepestDescent, TrustRegions\n",
    "\n",
    "\n",
    "def dist(x1, x2):\n",
    "    \"\"\" Compute squared euclidean distance between samples (autograd)\n",
    "    \"\"\"\n",
    "    x1p2 = np.sum(np.square(x1), 1)\n",
    "    x2p2 = np.sum(np.square(x2), 1)\n",
    "    return x1p2.reshape((-1, 1)) + x2p2.reshape((1, -1)) - 2 * np.dot(x1, x2.T)\n",
    "\n",
    "\n",
    "\n",
    "def sinkhorn(w1, w2, M, reg, k):\n",
    "    \"\"\"Sinkhorn algorithm with fixed number of iteration (autograd)\n",
    "    \"\"\"\n",
    "    K = np.exp(-M / reg)\n",
    "    ui = np.ones((M.shape[0],))\n",
    "    vi = np.ones((M.shape[1],))\n",
    "    for i in range(k):\n",
    "        vi = w2 / (np.dot(K.T, ui))\n",
    "        ui = w1 / (np.dot(K, vi))\n",
    "    G = ui.reshape((M.shape[0], 1)) * K * vi.reshape((1, M.shape[1]))\n",
    "    return G\n",
    "\n",
    "\n",
    "\n",
    "def split_classes(X, y):\n",
    "    \"\"\"split samples in X by classes in y\n",
    "    \"\"\"\n",
    "    lstsclass = np.unique(y)\n",
    "    return [X[y == i, :].astype(np.float32) for i in lstsclass]\n",
    "\n",
    "\n",
    "\n",
    "def fda(X, y, p=2, reg=1e-16):\n",
    "    \"\"\"\n",
    "    Fisher Discriminant Analysis\n",
    "\n",
    "\n",
    "    Parameters\n",
    "    ----------\n",
    "    X : numpy.ndarray (n,d)\n",
    "        Training samples\n",
    "    y : np.ndarray (n,)\n",
    "        labels for training samples\n",
    "    p : int, optional\n",
    "        size of dimensionnality reduction\n",
    "    reg : float, optional\n",
    "        Regularization term >0 (ridge regularization)\n",
    "\n",
    "\n",
    "    Returns\n",
    "    -------\n",
    "    P : (d x p) ndarray\n",
    "        Optimal transportation matrix for the given parameters\n",
    "    proj : fun\n",
    "        projection function including mean centering\n",
    "\n",
    "\n",
    "    \"\"\"\n",
    "\n",
    "    mx = np.mean(X)\n",
    "    X -= mx.reshape((1, -1))\n",
    "\n",
    "    # data split between classes\n",
    "    d = X.shape[1]\n",
    "    xc = split_classes(X, y)\n",
    "    nc = len(xc)\n",
    "\n",
    "    p = min(nc - 1, p)\n",
    "\n",
    "    Cw = 0\n",
    "    for x in xc:\n",
    "        Cw += np.cov(x, rowvar=False)\n",
    "    Cw /= nc\n",
    "\n",
    "    mxc = np.zeros((d, nc))\n",
    "\n",
    "    for i in range(nc):\n",
    "        mxc[:, i] = np.mean(xc[i])\n",
    "\n",
    "    mx0 = np.mean(mxc, 1)\n",
    "    Cb = 0\n",
    "    for i in range(nc):\n",
    "        Cb += (mxc[:, i] - mx0).reshape((-1, 1)) * \\\n",
    "            (mxc[:, i] - mx0).reshape((1, -1))\n",
    "\n",
    "    w, V = linalg.eig(Cb, Cw + reg * np.eye(d))\n",
    "\n",
    "    idx = np.argsort(w.real)\n",
    "\n",
    "    Popt = V[:, idx[-p:]]\n",
    "\n",
    "    def proj(X):\n",
    "        return (X - mx.reshape((1, -1))).dot(Popt)\n",
    "\n",
    "    return Popt, proj\n",
    "\n",
    "\n",
    "\n",
    "def wda(X, y, p=2, reg=1, k=10, solver=None, maxiter=100, verbose=0, P0=None):\n",
    "    \"\"\"\n",
    "    Wasserstein Discriminant Analysis [11]_\n",
    "\n",
    "    The function solves the following optimization problem:\n",
    "\n",
    "    .. math::\n",
    "        P = \\\\text{arg}\\min_P \\\\frac{\\\\sum_i W(PX^i,PX^i)}{\\\\sum_{i,j\\\\neq i} W(PX^i,PX^j)}\n",
    "\n",
    "    where :\n",
    "\n",
    "    - :math:`P` is a linear projection operator in the Stiefel(p,d) manifold\n",
    "    - :math:`W` is entropic regularized Wasserstein distances\n",
    "    - :math:`X^i` are samples in the dataset corresponding to class i\n",
    "\n",
    "    Parameters\n",
    "    ----------\n",
    "    X : numpy.ndarray (n,d)\n",
    "        Training samples\n",
    "    y : np.ndarray (n,)\n",
    "        labels for training samples\n",
    "    p : int, optional\n",
    "        size of dimensionnality reduction\n",
    "    reg : float, optional\n",
    "        Regularization term >0 (entropic regularization)\n",
    "    solver : str, optional\n",
    "        None for steepest decsent or 'TrustRegions' for trust regions algorithm\n",
    "        else shoudl be a pymanopt.solvers\n",
    "    P0 : numpy.ndarray (d,p)\n",
    "        Initial starting point for projection\n",
    "    verbose : int, optional\n",
    "        Print information along iterations\n",
    "\n",
    "\n",
    "\n",
    "    Returns\n",
    "    -------\n",
    "    P : (d x p) ndarray\n",
    "        Optimal transportation matrix for the given parameters\n",
    "    proj : fun\n",
    "        projection function including mean centering\n",
    "\n",
    "\n",
    "    References\n",
    "    ----------\n",
    "\n",
    "    .. [11] Flamary, R., Cuturi, M., Courty, N., & Rakotomamonjy, A. (2016). Wasserstein Discriminant Analysis. arXiv preprint arXiv:1608.08063.\n",
    "\n",
    "    \"\"\"  # noqa\n",
    "\n",
    "    mx = np.mean(X)\n",
    "    X -= mx.reshape((1, -1))\n",
    "\n",
    "    # data split between classes\n",
    "    d = X.shape[1]\n",
    "    xc = split_classes(X, y)\n",
    "    # compute uniform weighs\n",
    "    wc = [np.ones((x.shape[0]), dtype=np.float32) / x.shape[0] for x in xc]\n",
    "\n",
    "    def cost(P):\n",
    "        # wda loss\n",
    "        loss_b = 0\n",
    "        loss_w = 0\n",
    "\n",
    "        for i, xi in enumerate(xc):\n",
    "            xi = np.dot(xi, P)\n",
    "            for j, xj in enumerate(xc[i:]):\n",
    "                xj = np.dot(xj, P)\n",
    "                M = dist(xi, xj)\n",
    "                G = sinkhorn(wc[i], wc[j + i], M, reg, k)\n",
    "                if j == 0:\n",
    "                    loss_w += np.sum(G * M)\n",
    "                else:\n",
    "                    loss_b += np.sum(G * M)\n",
    "\n",
    "        # loss inversed because minimization\n",
    "        return loss_w / loss_b\n",
    "\n",
    "    # declare manifold and problem\n",
    "    manifold = Stiefel(d, p)\n",
    "    problem = Problem(manifold=manifold, cost=cost)\n",
    "\n",
    "    # declare solver and solve\n",
    "    if solver is None:\n",
    "        solver = SteepestDescent(maxiter=maxiter, logverbosity=verbose)\n",
    "    elif solver in ['tr', 'TrustRegions']:\n",
    "        solver = TrustRegions(maxiter=maxiter, logverbosity=verbose)\n",
    "\n",
    "    Popt = solver.solve(problem, x=P0)\n",
    "\n",
    "    def proj(X):\n",
    "        return (X - mx.reshape((1, -1))).dot(Popt)\n",
    "\n",
    "    return Popt, proj"
   ]
  },
  {
   "cell_type": "code",
   "execution_count": 91,
   "metadata": {},
   "outputs": [],
   "source": [
    "#Perte earth mover approximée\n",
    "#On utilise comme coûts une matrice de 1 avec la diagonale à 0\n",
    "\n",
    "def earth_mover_objective (params,t) : \n",
    "    t = t%799\n",
    "    predict = nn_predict(params, train[t,0:116] , nonlinearity=np.tanh)\n",
    "    true = train[t,116:]/sum(train[t,116:])\n",
    "    M= np.ones((400, 400))-np.identity(400)\n",
    "    return(np.sum(np.multiply(M,sinkhorn(true, predict, M, 0.05, 1000))))\n"
   ]
  },
  {
   "cell_type": "markdown",
   "metadata": {
    "collapsed": true
   },
   "source": [
    "### Résultats"
   ]
  },
  {
   "cell_type": "code",
   "execution_count": 92,
   "metadata": {},
   "outputs": [],
   "source": [
    "optimized_params = adam(grad(earth_mover_objective), init_params, step_size=0.01, num_iters=2000)"
   ]
  },
  {
   "cell_type": "code",
   "execution_count": null,
   "metadata": {},
   "outputs": [],
   "source": [
    "def earth_mover_loss (params) : \n",
    "    preds = pred(params)\n",
    "    true = []\n",
    "    for i in range(np.shape(test)[0]) : \n",
    "         true.append(test[i, 116:])\n",
    "    EM = []\n",
    "    M= np.ones((400, 400))-np.identity(400)\n",
    "    for i in range(np.shape(test)[0]):\n",
    "        EM.append(np.sum(np.multiply(sinkhorn( true[i], preds[i], M, 0.05, 1000), M)))\n",
    "    return(EM)\n",
    "\n",
    "print(np.mean(np.array(earth_mover_loss(optimized_params))-np.array(earth_mover_loss(init_params))))"
   ]
  },
  {
   "cell_type": "code",
   "execution_count": 99,
   "metadata": {},
   "outputs": [
    {
     "data": {
      "image/png": "[encoded data removed]",
      "text/plain": [
       "<matplotlib.figure.Figure at 0x243921e6668>"
      ]
     },
     "metadata": {},
     "output_type": "display_data"
    }
   ],
   "source": [
    "plt.plot(np.sort(np.array(earth_mover_loss(optimized_params))-np.array(earth_mover_loss(init_params))))\n",
    "plt.show()"
   ]
  }
 ],
 "metadata": {
  "kernelspec": {
   "display_name": "Python 3",
   "language": "python",
   "name": "python3"
  },
  "language_info": {
   "codemirror_mode": {
    "name": "ipython",
    "version": 3
   },
   "file_extension": ".py",
   "mimetype": "text/x-python",
   "name": "python",
   "nbconvert_exporter": "python",
   "pygments_lexer": "ipython3",
   "version": "3.6.3"
  }
 },
 "nbformat": 4,
 "nbformat_minor": 2
}
