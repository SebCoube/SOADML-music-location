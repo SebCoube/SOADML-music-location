{
 "cells": [
  {
   "cell_type": "code",
   "execution_count": 15,
   "metadata": {
    "collapsed": true
   },
   "outputs": [],
   "source": [
    "from __future__ import absolute_import, division\n",
    "from __future__ import print_function\n",
    "import autograd.numpy as np\n",
    "import autograd.numpy.random as npr\n",
    "from autograd.scipy.misc import logsumexp\n",
    "from autograd import grad\n",
    "from autograd.misc.flatten import flatten\n",
    "from autograd.misc.optimizers import adam\n",
    "from numpy import genfromtxt\n",
    "from math import pi\n",
    "from operator import add"
   ]
  },
  {
   "cell_type": "markdown",
   "metadata": {},
   "source": [
    "## Première partie : prédiction de latitude et longitude"
   ]
  },
  {
   "cell_type": "code",
   "execution_count": 63,
   "metadata": {
    "collapsed": true
   },
   "outputs": [],
   "source": [
    "#création des données\n",
    "my_data = genfromtxt('default_plus_chromatic_features_1059_tracks.txt', delimiter=',')\n",
    "train = my_data[np.random.random_integers(1, high=799, size=10000),]\n",
    "test = my_data[800:,]"
   ]
  },
  {
   "cell_type": "markdown",
   "metadata": {},
   "source": [
    "### Code"
   ]
  },
  {
   "cell_type": "code",
   "execution_count": 17,
   "metadata": {},
   "outputs": [
    {
     "name": "stdout",
     "output_type": "stream",
     "text": [
      "distance entre les deux pôles...\n",
      "...par la distance du grand cercle\n",
      "20037.0779446\n",
      "... par la formule circonférence = 2 pi R\n",
      "20037.0779445957\n",
      "\n",
      "distance entre deux points de l'équateur diamétralement opposés...\n",
      "...par la distance du grand cercle\n",
      "20037.0779446\n",
      "... par la formule circonférence = 2 pi R\n",
      "20037.0779445957\n",
      "\n",
      "distance Paris Bogota...\n",
      "...par la distance du grand cercle\n",
      "8636.14950817\n",
      "... trouvée sur Internet\n",
      "8633\n"
     ]
    }
   ],
   "source": [
    "#Distance du Grand Cercle\n",
    "def dgc(lat_1, lat_2, lon_1, lon_2) :\n",
    "    #conversion degré -> rad\n",
    "    lat_1, lat_2, lon_1, lon_2 = (pi/180)* lat_1, (pi/180)*lat_2, (pi/180)*lon_1, (pi/180)*lon_2\n",
    "    q = np.sin((lat_1-lat_2)/2)**2+np.cos(lat_1)*np.cos(lat_2)*np.sin((lon_1-lon_2)/2)**2\n",
    "    return(2*6378*np.arcsin(np.sign(q)*np.sqrt(np.abs(q))))\n",
    "\n",
    "print(\"distance entre les deux pôles...\")\n",
    "print(\"...par la distance du grand cercle\")\n",
    "print(dgc(90,-90, 0, 0))\n",
    "print(\"... par la formule circonférence = 2 pi R\")\n",
    "print(np.pi*6378)\n",
    "print(\"\")\n",
    "\n",
    "print(\"distance entre deux points de l'équateur diamétralement opposés...\")\n",
    "print(\"...par la distance du grand cercle\")\n",
    "print(dgc(0,0, 0, 180))\n",
    "print(\"... par la formule circonférence = 2 pi R\")\n",
    "print(np.pi*6378)\n",
    "print(\"\")\n",
    "\n",
    "print(\"distance Paris Bogota...\")\n",
    "print(\"...par la distance du grand cercle\")\n",
    "print(dgc(4.4,48.5, -74, 2.2))\n",
    "print(\"... trouvée sur Internet\")\n",
    "print(8633)\n",
    "\n",
    "\n"
   ]
  },
  {
   "cell_type": "code",
   "execution_count": 18,
   "metadata": {
    "collapsed": true
   },
   "outputs": [],
   "source": [
    "#Fonction de création des paramètres directement inspirée de l'exemple\n",
    "def init_random_params(scale, layer_sizes, rs=npr.RandomState(0)):\n",
    "    \"\"\"Build a list of (weights, biases) tuples, one for each layer.\"\"\"\n",
    "    return [(rs.randn(insize, outsize) * scale,   # weight matrix\n",
    "             rs.randn(outsize) * scale)           # bias vector\n",
    "            for insize, outsize in zip(layer_sizes[:-1], layer_sizes[1:])]\n",
    "\n",
    "#Fonction de prédiction directement inspirée de l'exemple\n",
    "def nn_predict(params, inputs, nonlinearity = np.tanh):\n",
    "    for W, b in params:\n",
    "        outputs = np.dot(inputs, W) + b\n",
    "        inputs = np.tanh(outputs)\n",
    "    return outputs\n",
    "\n",
    "\n",
    "init_scale = 0.1\n",
    "weight_prior_variance = 10.0\n",
    "init_params = init_random_params(init_scale, layer_sizes=[116, 200, 200, 2])\n",
    "\n",
    "#fonction objectif faisant intervenir le grand cercle\n",
    "def objective(params, t) : \n",
    "    predict = nn_predict(params, train[t,0:116] , nonlinearity=np.tanh)\n",
    "    return(dgc(predict[0], train[t,116], predict[1], train[t,117])**2)\n"
   ]
  },
  {
   "cell_type": "markdown",
   "metadata": {},
   "source": [
    "### Résultats"
   ]
  },
  {
   "cell_type": "code",
   "execution_count": 21,
   "metadata": {
    "scrolled": false
   },
   "outputs": [
    {
     "name": "stderr",
     "output_type": "stream",
     "text": [
      "C:\\Users\\Utilisateur\\Anaconda3\\lib\\site-packages\\autograd\\numpy\\numpy_vjps.py:88: RuntimeWarning: overflow encountered in square\n",
      "  defvjp(anp.tanh,   lambda ans, x : lambda g: g / anp.cosh(x) **2)\n"
     ]
    }
   ],
   "source": [
    "#Optimisation \n",
    "optimized_params = adam(grad(objective), init_params, step_size=0.01, num_iters=10000)"
   ]
  },
  {
   "cell_type": "code",
   "execution_count": 22,
   "metadata": {},
   "outputs": [
    {
     "data": {
      "text/plain": [
       "array([[  1.42867599e+01,  -2.96530957e+00],\n",
       "       [ -3.31138352e+00,  -5.20945828e+01],\n",
       "       [  1.80274832e+00,  -5.13658340e+01],\n",
       "       [  9.21761129e+00,   1.88967039e+01],\n",
       "       [  8.11370647e+00,  -5.39460369e+00],\n",
       "       [ -1.83255013e+00,   2.93662310e+00],\n",
       "       [  6.33847431e+00,   4.90925044e+00],\n",
       "       [  9.89819697e+00,   3.97322079e+01],\n",
       "       [  3.46008639e+00,   1.58774700e+01],\n",
       "       [ -1.96335954e+01,   6.29755776e+01],\n",
       "       [ -1.12650318e+01,   2.48154236e+00],\n",
       "       [ -8.10469241e+00,   4.48191016e+00],\n",
       "       [ -3.18961235e+01,  -1.59717607e+01],\n",
       "       [ -1.86182250e+01,   3.98974118e+01],\n",
       "       [ -2.04493858e+01,   3.81598398e+00],\n",
       "       [  3.97561332e+00,  -1.52835138e+01],\n",
       "       [ -8.48752264e+00,  -2.43475860e+01],\n",
       "       [  4.07635749e+00,  -1.64761379e+00],\n",
       "       [ -1.66527500e+01,  -1.04090289e+01],\n",
       "       [ -1.15275511e+01,  -1.51160424e+01],\n",
       "       [  1.30692367e+00,   2.26746411e+01],\n",
       "       [ -8.29842855e+00,  -3.89378239e+01],\n",
       "       [  4.83908438e+00,  -7.81037386e+00],\n",
       "       [  6.36491998e-01,   2.94808438e+01],\n",
       "       [ -9.87753206e+00,  -6.46175107e+01],\n",
       "       [ -1.05759062e+01,  -2.33624935e+01],\n",
       "       [  1.64727928e+01,   2.33150145e+01],\n",
       "       [ -1.26115601e+01,  -2.64987559e+01],\n",
       "       [ -8.84035876e-01,   9.76598802e+00],\n",
       "       [  1.31892802e+01,   4.10767929e+00],\n",
       "       [  1.64382766e+00,   1.73109272e+01],\n",
       "       [  7.41043703e+00,   3.22685850e+01],\n",
       "       [  2.80754267e+01,   4.74202913e+01],\n",
       "       [ -1.35072114e+01,   4.39486381e+01],\n",
       "       [  1.00336126e+01,   2.24511722e+01],\n",
       "       [ -2.99986055e+01,  -9.14944077e+01],\n",
       "       [  1.53859462e+01,   4.22273024e+01],\n",
       "       [ -1.37639628e+01,   2.66466681e-02],\n",
       "       [  2.25645509e+01,   7.25877253e+01],\n",
       "       [ -6.19406776e-01,   8.86136464e+00],\n",
       "       [ -1.76284893e+00,  -6.86688190e+00],\n",
       "       [  8.75090934e-01,  -1.62811958e+01],\n",
       "       [  5.42238479e+00,   7.71304706e+00],\n",
       "       [  6.39073277e+00,   3.58344520e+01],\n",
       "       [  1.13763304e+00,  -2.41539244e-01],\n",
       "       [  4.09476207e+00,  -3.14692409e+01],\n",
       "       [ -1.41594594e+01,  -1.17933553e+01],\n",
       "       [ -1.15464316e+00,   3.84649522e+01],\n",
       "       [ -9.82051189e+00,  -3.74522285e+01],\n",
       "       [  1.26354149e+01,   3.56645066e+00],\n",
       "       [  2.83177496e+01,   2.52398391e+01],\n",
       "       [  2.05387699e+01,  -1.71913145e+01],\n",
       "       [ -1.21279519e+00,  -2.17973021e+01],\n",
       "       [ -4.66793749e+00,   3.95711253e+00],\n",
       "       [  1.14498307e+01,   1.37397444e+01],\n",
       "       [  2.01041147e+01,   2.13902976e+01],\n",
       "       [  3.94157651e+01,   1.36305795e+01],\n",
       "       [  4.42068874e+01,   9.59311683e+01],\n",
       "       [  3.90001838e+01,   7.32010359e+01],\n",
       "       [  8.55845013e+00,   6.93111704e+01],\n",
       "       [  2.72861954e+00,   5.75957195e+01],\n",
       "       [  9.68828749e+00,  -1.06882628e+01],\n",
       "       [  4.52713013e+01,   9.24166205e+01],\n",
       "       [ -1.42536230e+01,   4.69054165e+01],\n",
       "       [  1.54807145e+01,  -3.30566948e+01],\n",
       "       [ -2.10718936e+01,  -3.04907286e+00],\n",
       "       [ -7.03493699e+00,   1.65666637e+01],\n",
       "       [  3.71181301e+00,   1.16348017e+01],\n",
       "       [  1.84217238e+01,   2.26953435e+01],\n",
       "       [  2.73984588e+01,   2.74145443e+01],\n",
       "       [  2.83923423e+01,   7.96304661e+01],\n",
       "       [ -1.74274280e+01,   2.04241689e+01],\n",
       "       [ -2.21352126e+01,  -2.25644976e+01],\n",
       "       [ -2.01159390e+01,  -5.58711738e+01],\n",
       "       [ -2.73631071e+01,   2.98121452e+01],\n",
       "       [ -1.03372590e+01,   2.26106034e+01],\n",
       "       [ -8.84953170e+00,   6.58000040e+00],\n",
       "       [ -1.54243319e+01,  -5.21047309e-01],\n",
       "       [ -3.86111067e+00,  -2.54422105e+01],\n",
       "       [  6.75651005e+00,   6.96800414e+01],\n",
       "       [  1.18368146e+01,   2.76927415e+01],\n",
       "       [  2.78391256e+01,   6.77879903e+01],\n",
       "       [  3.12682887e+01,   3.96742384e+01],\n",
       "       [ -1.80599708e+01,   2.89702274e+01],\n",
       "       [ -8.87086891e-01,   2.80959697e+01],\n",
       "       [ -1.92731065e+01,   4.15803015e+01],\n",
       "       [ -1.45483230e+01,   3.05727005e+01],\n",
       "       [  3.29770458e+01,   6.01475620e+01],\n",
       "       [  9.74435014e+00,   6.03718135e+01],\n",
       "       [  2.96647269e+01,   5.36418723e+01],\n",
       "       [  4.12766332e+01,   4.66386412e+01],\n",
       "       [  5.23172882e+00,  -3.30582410e+01],\n",
       "       [  9.87769453e+00,   5.04400929e+01],\n",
       "       [ -7.81872080e+00,   4.98143340e+01],\n",
       "       [ -2.54571038e+01,   1.28094286e+01],\n",
       "       [  1.08550370e+01,   3.12013643e+00],\n",
       "       [  1.42467698e+01,  -4.36581789e+01],\n",
       "       [  5.26025639e+00,  -3.13089819e+01],\n",
       "       [  1.98852824e+01,   3.84129971e+01],\n",
       "       [ -1.10578849e+01,  -2.97700201e+01],\n",
       "       [ -1.00828334e+01,  -4.98002635e+01],\n",
       "       [ -1.36206803e+01,  -3.56046307e+01],\n",
       "       [ -8.18428879e+00,   5.30587300e+00],\n",
       "       [ -1.40608682e+01,  -1.32602135e+01],\n",
       "       [ -6.32172651e+00,   4.05848582e+01],\n",
       "       [ -1.14008460e+01,   2.93471046e+01],\n",
       "       [ -4.42050609e+00,  -7.93712965e+01],\n",
       "       [ -8.23830986e+00,   5.54312273e+01],\n",
       "       [ -9.96674619e+00,  -4.12389339e+01],\n",
       "       [ -2.72591355e+01,  -3.13099586e+01],\n",
       "       [ -1.66237060e+01,  -3.15653057e+01],\n",
       "       [  4.96999940e+00,   7.34028588e+00],\n",
       "       [  4.59125542e+00,  -1.23120030e-01],\n",
       "       [  1.40273301e+01,   1.51039696e+00],\n",
       "       [  9.81039479e-01,   8.05720276e+00],\n",
       "       [  6.93509291e+00,  -9.93768408e+00],\n",
       "       [ -1.72598419e+01,  -2.56610883e+01],\n",
       "       [ -8.21180792e+00,  -4.49989674e+00]])"
      ]
     },
     "execution_count": 22,
     "metadata": {},
     "output_type": "execute_result"
    }
   ],
   "source": [
    "#Prédiction et retour d'erreur\n",
    "def pred (optimized_params) :\n",
    "    preds = []\n",
    "    for i in range(np.shape(test)[1]) : \n",
    "        preds.append(nn_predict(optimized_params, inputs=test[i, 0:116]))\n",
    "    return(np.array(preds))\n",
    "#retourne un array de la différence de latitude et de longitude entre prédiction et référence\n",
    "def  errors (optimized_params) : \n",
    "    preds = pred(optimized_params)\n",
    "    true = []\n",
    "    for i in range(np.shape(test)[1]) : \n",
    "         true.append(test[i, 116:117])\n",
    "    true = np.array(true)\n",
    "    return(preds-true)\n",
    "errors(optimized_params)\n"
   ]
  },
  {
   "cell_type": "markdown",
   "metadata": {
    "collapsed": true
   },
   "source": [
    "## Seconde partie : utilisation du heatmap"
   ]
  },
  {
   "cell_type": "code",
   "execution_count": 61,
   "metadata": {},
   "outputs": [],
   "source": [
    "heatmap = np.loadtxt('heatmap.txt')\n",
    "my_data = genfromtxt('default_plus_chromatic_features_1059_tracks.txt', delimiter=',')\n",
    "my_data = my_data[0:len(my_data), 0:116]\n",
    "my_data = np.concatenate((my_data, heatmap), 1)\n",
    "train = my_data[np.random.random_integers(1, high=799, size=10000),]\n",
    "test = my_data[800:,]"
   ]
  },
  {
   "cell_type": "code",
   "execution_count": null,
   "metadata": {
    "collapsed": true
   },
   "outputs": [],
   "source": [
    "init_scale = 0.1\n",
    "weight_prior_variance = 10.0\n",
    "init_params = init_random_params(init_scale, layer_sizes=[116, 200, 200, 400])\n",
    "\n",
    "\n",
    "\n",
    "def KL(params, t) : \n",
    "    predict = nn_predict(params, train[t,0:116] , nonlinearity=np.tanh)\n",
    "    return(np.sum(predict*np.log(predict)))\n",
    "#def objective(params, inputs, targets):\n",
    "#    predict = nn_predict(params, inputs, nonlinearity=np.tanh)\n",
    "#    return(dgc(predict[0], targets[0], predict[1], targets[1])**2)\n"
   ]
  }
 ],
 "metadata": {
  "kernelspec": {
   "display_name": "Python 3",
   "language": "python",
   "name": "python3"
  },
  "language_info": {
   "codemirror_mode": {
    "name": "ipython",
    "version": 3
   },
   "file_extension": ".py",
   "mimetype": "text/x-python",
   "name": "python",
   "nbconvert_exporter": "python",
   "pygments_lexer": "ipython3",
   "version": "3.6.3"
  }
 },
 "nbformat": 4,
 "nbformat_minor": 2
}
